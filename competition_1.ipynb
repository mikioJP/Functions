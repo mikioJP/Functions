{
  "nbformat": 4,
  "nbformat_minor": 0,
  "metadata": {
    "colab": {
      "name": "competition_1.ipynb",
      "provenance": [],
      "collapsed_sections": [],
      "mount_file_id": "1FFBmuz8TnTmMPott9v-QIKP6dQlPeMI-",
      "authorship_tag": "ABX9TyPn4JUKBW7Nzdo5ZnBP+7VB",
      "include_colab_link": true
    },
    "kernelspec": {
      "name": "python3",
      "display_name": "Python 3"
    },
    "language_info": {
      "name": "python"
    },
    "accelerator": "GPU"
  },
  "cells": [
    {
      "cell_type": "markdown",
      "metadata": {
        "id": "view-in-github",
        "colab_type": "text"
      },
      "source": [
        "<a href=\"https://colab.research.google.com/github/mikioJP/Functions/blob/master/competition_1.ipynb\" target=\"_parent\"><img src=\"https://colab.research.google.com/assets/colab-badge.svg\" alt=\"Open In Colab\"/></a>"
      ]
    },
    {
      "cell_type": "code",
      "metadata": {
        "id": "LLm1PP5jtORs",
        "colab": {
          "base_uri": "https://localhost:8080/"
        },
        "outputId": "fc887a0c-5f9d-4fe7-ec40-28343b3c5bd3"
      },
      "source": [
        "%cd /content/drive/My Drive/Colab Notebooks/GCI_2021_winter/Competitions/competition_1/\n",
        "!git config --global user.email \"wagnaria441@yahoo.co.jp\"\n",
        "!git config --global user.name \"mikioJP\""
      ],
      "execution_count": 3,
      "outputs": [
        {
          "output_type": "stream",
          "name": "stdout",
          "text": [
            "/content/drive/My Drive/Colab Notebooks/GCI_2021_winter/Competitions/competition_1\n"
          ]
        }
      ]
    },
    {
      "cell_type": "code",
      "metadata": {
        "id": "UTSgW4zh06Ct"
      },
      "source": [
        "!echo -e \"Host github.com\\n\\tStrictHostKeyChecking no\\n\" >> ~/.ssh/config"
      ],
      "execution_count": 9,
      "outputs": []
    },
    {
      "cell_type": "code",
      "metadata": {
        "colab": {
          "base_uri": "https://localhost:8080/"
        },
        "id": "jPVhZPxn01S8",
        "outputId": "8fc4da8e-2d2e-4d2b-f4ad-096c6c63eaf7"
      },
      "source": [
        "!git init\n",
        "!git add competition_1.ipynb\n",
        "!git commit -m \"first commit\"\n",
        "!git branch -M main\n",
        "!git push -u origin main"
      ],
      "execution_count": 10,
      "outputs": [
        {
          "output_type": "stream",
          "name": "stdout",
          "text": [
            "Reinitialized existing Git repository in /content/drive/My Drive/Colab Notebooks/GCI_2021_winter/Competitions/competition_1/.git/\n",
            "[main 9ca8f8b] first commit\n",
            " 1 file changed, 1 insertion(+), 1 deletion(-)\n",
            "Warning: Permanently added 'github.com,140.82.112.4' (RSA) to the list of known hosts.\n",
            "git@github.com: Permission denied (publickey).\n",
            "fatal: Could not read from remote repository.\n",
            "\n",
            "Please make sure you have the correct access rights\n",
            "and the repository exists.\n"
          ]
        }
      ]
    },
    {
      "cell_type": "code",
      "metadata": {
        "id": "rZF0NQhiwUqB",
        "colab": {
          "base_uri": "https://localhost:8080/"
        },
        "outputId": "37a5e4dc-55d5-402b-fd3b-d4d4b569b9c6"
      },
      "source": [
        "!git add competition_1.ipynb\n",
        "!git commit -m \"Added new file.\""
      ],
      "execution_count": null,
      "outputs": [
        {
          "output_type": "stream",
          "name": "stdout",
          "text": [
            "fatal: not a git repository (or any parent up to mount point /content)\n",
            "Stopping at filesystem boundary (GIT_DISCOVERY_ACROSS_FILESYSTEM not set).\n",
            "fatal: not a git repository (or any parent up to mount point /content)\n",
            "Stopping at filesystem boundary (GIT_DISCOVERY_ACROSS_FILESYSTEM not set).\n"
          ]
        }
      ]
    },
    {
      "cell_type": "code",
      "metadata": {
        "id": "IqIq3ICfwYun"
      },
      "source": [
        "!git remote set-url origin \n",
        "!git push origin master"
      ],
      "execution_count": null,
      "outputs": []
    }
  ]
}